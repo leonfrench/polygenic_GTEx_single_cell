{
 "cells": [
  {
   "cell_type": "code",
   "execution_count": 1,
   "metadata": {},
   "outputs": [],
   "source": [
    "import pickle\n",
    "import pandas as pd"
   ]
  },
  {
   "cell_type": "code",
   "execution_count": 2,
   "metadata": {},
   "outputs": [
    {
     "name": "stdout",
     "output_type": "stream",
     "text": [
      "1.4.2\n"
     ]
    }
   ],
   "source": [
    "print(pd.__version__)"
   ]
  },
  {
   "cell_type": "code",
   "execution_count": 35,
   "metadata": {},
   "outputs": [],
   "source": [
    "base_file = \"../data/de_granular.pkl\"\n",
    "#base_file = \"../data/de_broad.pkl\"\n",
    "with open(base_file, 'rb') as pickle_file:\n",
    "    full_de = pickle.load(pickle_file)"
   ]
  },
  {
   "cell_type": "code",
   "execution_count": 40,
   "metadata": {},
   "outputs": [
    {
     "data": {
      "text/html": [
       "<div>\n",
       "<style scoped>\n",
       "    .dataframe tbody tr th:only-of-type {\n",
       "        vertical-align: middle;\n",
       "    }\n",
       "\n",
       "    .dataframe tbody tr th {\n",
       "        vertical-align: top;\n",
       "    }\n",
       "\n",
       "    .dataframe thead th {\n",
       "        text-align: right;\n",
       "    }\n",
       "</style>\n",
       "<table border=\"1\" class=\"dataframe\">\n",
       "  <thead>\n",
       "    <tr style=\"text-align: right;\">\n",
       "      <th></th>\n",
       "      <th>celltype</th>\n",
       "      <th>tissue</th>\n",
       "      <th>gene</th>\n",
       "      <th>tstat</th>\n",
       "    </tr>\n",
       "  </thead>\n",
       "  <tbody>\n",
       "    <tr>\n",
       "      <th>342183</th>\n",
       "      <td>Unknown (SFN-GJA1)</td>\n",
       "      <td>Skin</td>\n",
       "      <td>ARL15</td>\n",
       "      <td>-21.668438</td>\n",
       "    </tr>\n",
       "    <tr>\n",
       "      <th>342184</th>\n",
       "      <td>Unknown (SFN-GJA1)</td>\n",
       "      <td>Skin</td>\n",
       "      <td>LDLRAD4</td>\n",
       "      <td>-21.863287</td>\n",
       "    </tr>\n",
       "    <tr>\n",
       "      <th>342185</th>\n",
       "      <td>Unknown (SFN-GJA1)</td>\n",
       "      <td>Skin</td>\n",
       "      <td>RALGAPA2</td>\n",
       "      <td>-23.831993</td>\n",
       "    </tr>\n",
       "    <tr>\n",
       "      <th>342186</th>\n",
       "      <td>Unknown (SFN-GJA1)</td>\n",
       "      <td>Skin</td>\n",
       "      <td>PTPRM</td>\n",
       "      <td>-27.015974</td>\n",
       "    </tr>\n",
       "    <tr>\n",
       "      <th>342187</th>\n",
       "      <td>Unknown (SFN-GJA1)</td>\n",
       "      <td>Skin</td>\n",
       "      <td>CADPS2</td>\n",
       "      <td>-27.218916</td>\n",
       "    </tr>\n",
       "  </tbody>\n",
       "</table>\n",
       "</div>"
      ],
      "text/plain": [
       "                  celltype tissue      gene      tstat\n",
       "342183  Unknown (SFN-GJA1)   Skin     ARL15 -21.668438\n",
       "342184  Unknown (SFN-GJA1)   Skin   LDLRAD4 -21.863287\n",
       "342185  Unknown (SFN-GJA1)   Skin  RALGAPA2 -23.831993\n",
       "342186  Unknown (SFN-GJA1)   Skin     PTPRM -27.015974\n",
       "342187  Unknown (SFN-GJA1)   Skin    CADPS2 -27.218916"
      ]
     },
     "execution_count": 40,
     "metadata": {},
     "output_type": "execute_result"
    }
   ],
   "source": [
    "full_de.tail()"
   ]
  },
  {
   "cell_type": "code",
   "execution_count": 37,
   "metadata": {},
   "outputs": [
    {
     "data": {
      "text/plain": [
       "(2814679, 14)"
      ]
     },
     "execution_count": 37,
     "metadata": {},
     "output_type": "execute_result"
    }
   ],
   "source": [
    "full_de.shape"
   ]
  },
  {
   "cell_type": "code",
   "execution_count": 38,
   "metadata": {},
   "outputs": [],
   "source": [
    "full_de = full_de[['celltype', 'tissue','gene', 'tstat']]"
   ]
  },
  {
   "cell_type": "code",
   "execution_count": 39,
   "metadata": {},
   "outputs": [],
   "source": [
    "full_de.to_csv(base_file + \".slim.csv\", index=False)"
   ]
  },
  {
   "cell_type": "code",
   "execution_count": null,
   "metadata": {},
   "outputs": [],
   "source": []
  }
 ],
 "metadata": {
  "kernelspec": {
   "display_name": "Python 3 (ipykernel)",
   "language": "python",
   "name": "python3"
  },
  "language_info": {
   "codemirror_mode": {
    "name": "ipython",
    "version": 3
   },
   "file_extension": ".py",
   "mimetype": "text/x-python",
   "name": "python",
   "nbconvert_exporter": "python",
   "pygments_lexer": "ipython3",
   "version": "3.8.13"
  }
 },
 "nbformat": 4,
 "nbformat_minor": 4
}
