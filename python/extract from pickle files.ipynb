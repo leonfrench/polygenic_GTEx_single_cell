{
 "cells": [
  {
   "cell_type": "code",
   "execution_count": 1,
   "metadata": {},
   "outputs": [],
   "source": [
    "import pickle\n",
    "import pandas as pd"
   ]
  },
  {
   "cell_type": "code",
   "execution_count": 9,
   "metadata": {},
   "outputs": [
    {
     "name": "stdout",
     "output_type": "stream",
     "text": [
      "1.4.2\n"
     ]
    }
   ],
   "source": [
    "print(pd.__version__)"
   ]
  },
  {
   "cell_type": "code",
   "execution_count": 10,
   "metadata": {},
   "outputs": [],
   "source": [
    "#base_file = \"../data/de_granular.pkl\"\n",
    "base_file = \"../data/de_broad.pkl\"\n",
    "with open(base_file, 'rb') as pickle_file:\n",
    "    full_de = pickle.load(pickle_file)"
   ]
  },
  {
   "cell_type": "code",
   "execution_count": 11,
   "metadata": {},
   "outputs": [
    {
     "data": {
      "text/html": [
       "<div>\n",
       "<style scoped>\n",
       "    .dataframe tbody tr th:only-of-type {\n",
       "        vertical-align: middle;\n",
       "    }\n",
       "\n",
       "    .dataframe tbody tr th {\n",
       "        vertical-align: top;\n",
       "    }\n",
       "\n",
       "    .dataframe thead th {\n",
       "        text-align: right;\n",
       "    }\n",
       "</style>\n",
       "<table border=\"1\" class=\"dataframe\">\n",
       "  <thead>\n",
       "    <tr style=\"text-align: right;\">\n",
       "      <th></th>\n",
       "      <th>celltype</th>\n",
       "      <th>gene</th>\n",
       "      <th>tstat</th>\n",
       "      <th>pvals</th>\n",
       "      <th>pvals_fdr</th>\n",
       "      <th>log2FC</th>\n",
       "      <th>fraction_group</th>\n",
       "      <th>fraction_rest</th>\n",
       "      <th>mean_expressed</th>\n",
       "      <th>spring_score</th>\n",
       "      <th>tissue</th>\n",
       "      <th>marker</th>\n",
       "      <th>spring_score_nonzero</th>\n",
       "      <th>significant</th>\n",
       "    </tr>\n",
       "  </thead>\n",
       "  <tbody>\n",
       "    <tr>\n",
       "      <th>248859</th>\n",
       "      <td>Unknown</td>\n",
       "      <td>PTPRG</td>\n",
       "      <td>-21.128510</td>\n",
       "      <td>3.825554e-87</td>\n",
       "      <td>9.917110e-84</td>\n",
       "      <td>-3.756716</td>\n",
       "      <td>0.022124</td>\n",
       "      <td>0.233641</td>\n",
       "      <td>1.085592</td>\n",
       "      <td>-0.414102</td>\n",
       "      <td>Skin</td>\n",
       "      <td></td>\n",
       "      <td>0.0</td>\n",
       "      <td>False</td>\n",
       "    </tr>\n",
       "    <tr>\n",
       "      <th>248860</th>\n",
       "      <td>Unknown</td>\n",
       "      <td>TACC1</td>\n",
       "      <td>-22.081713</td>\n",
       "      <td>6.396807e-95</td>\n",
       "      <td>2.487399e-91</td>\n",
       "      <td>-3.656545</td>\n",
       "      <td>0.026549</td>\n",
       "      <td>0.246154</td>\n",
       "      <td>0.726936</td>\n",
       "      <td>-0.422170</td>\n",
       "      <td>Skin</td>\n",
       "      <td></td>\n",
       "      <td>0.0</td>\n",
       "      <td>False</td>\n",
       "    </tr>\n",
       "    <tr>\n",
       "      <th>248861</th>\n",
       "      <td>Unknown</td>\n",
       "      <td>EBF1</td>\n",
       "      <td>-23.828735</td>\n",
       "      <td>5.178403e-114</td>\n",
       "      <td>4.027244e-110</td>\n",
       "      <td>-5.197264</td>\n",
       "      <td>0.008850</td>\n",
       "      <td>0.204103</td>\n",
       "      <td>0.693147</td>\n",
       "      <td>-0.404291</td>\n",
       "      <td>Skin</td>\n",
       "      <td>Adipocyte</td>\n",
       "      <td>0.0</td>\n",
       "      <td>False</td>\n",
       "    </tr>\n",
       "    <tr>\n",
       "      <th>248862</th>\n",
       "      <td>Unknown</td>\n",
       "      <td>AKT3</td>\n",
       "      <td>-24.039705</td>\n",
       "      <td>8.475071e-107</td>\n",
       "      <td>4.394042e-103</td>\n",
       "      <td>-3.625702</td>\n",
       "      <td>0.035398</td>\n",
       "      <td>0.298256</td>\n",
       "      <td>0.787152</td>\n",
       "      <td>-0.487560</td>\n",
       "      <td>Skin</td>\n",
       "      <td></td>\n",
       "      <td>0.0</td>\n",
       "      <td>False</td>\n",
       "    </tr>\n",
       "    <tr>\n",
       "      <th>248863</th>\n",
       "      <td>Unknown</td>\n",
       "      <td>PTPRM</td>\n",
       "      <td>-26.974569</td>\n",
       "      <td>2.619634e-133</td>\n",
       "      <td>4.074579e-129</td>\n",
       "      <td>-3.609288</td>\n",
       "      <td>0.044248</td>\n",
       "      <td>0.309128</td>\n",
       "      <td>0.727805</td>\n",
       "      <td>-0.512542</td>\n",
       "      <td>Skin</td>\n",
       "      <td></td>\n",
       "      <td>0.0</td>\n",
       "      <td>False</td>\n",
       "    </tr>\n",
       "  </tbody>\n",
       "</table>\n",
       "</div>"
      ],
      "text/plain": [
       "       celltype   gene      tstat          pvals      pvals_fdr    log2FC  \\\n",
       "248859  Unknown  PTPRG -21.128510   3.825554e-87   9.917110e-84 -3.756716   \n",
       "248860  Unknown  TACC1 -22.081713   6.396807e-95   2.487399e-91 -3.656545   \n",
       "248861  Unknown   EBF1 -23.828735  5.178403e-114  4.027244e-110 -5.197264   \n",
       "248862  Unknown   AKT3 -24.039705  8.475071e-107  4.394042e-103 -3.625702   \n",
       "248863  Unknown  PTPRM -26.974569  2.619634e-133  4.074579e-129 -3.609288   \n",
       "\n",
       "        fraction_group  fraction_rest  mean_expressed  spring_score tissue  \\\n",
       "248859        0.022124       0.233641        1.085592     -0.414102   Skin   \n",
       "248860        0.026549       0.246154        0.726936     -0.422170   Skin   \n",
       "248861        0.008850       0.204103        0.693147     -0.404291   Skin   \n",
       "248862        0.035398       0.298256        0.787152     -0.487560   Skin   \n",
       "248863        0.044248       0.309128        0.727805     -0.512542   Skin   \n",
       "\n",
       "           marker  spring_score_nonzero  significant  \n",
       "248859                              0.0        False  \n",
       "248860                              0.0        False  \n",
       "248861  Adipocyte                   0.0        False  \n",
       "248862                              0.0        False  \n",
       "248863                              0.0        False  "
      ]
     },
     "execution_count": 11,
     "metadata": {},
     "output_type": "execute_result"
    }
   ],
   "source": [
    "full_de.tail()"
   ]
  },
  {
   "cell_type": "code",
   "execution_count": 12,
   "metadata": {},
   "outputs": [
    {
     "data": {
      "text/plain": [
       "(1871005, 14)"
      ]
     },
     "execution_count": 12,
     "metadata": {},
     "output_type": "execute_result"
    }
   ],
   "source": [
    "full_de.shape"
   ]
  },
  {
   "cell_type": "code",
   "execution_count": 13,
   "metadata": {},
   "outputs": [],
   "source": [
    "full_de = full_de[['celltype', 'tissue','gene', 'tstat', 'pvals_fdr']]"
   ]
  },
  {
   "cell_type": "code",
   "execution_count": 14,
   "metadata": {},
   "outputs": [],
   "source": [
    "full_de.to_csv(base_file + \".slim.csv\", index=False)"
   ]
  },
  {
   "cell_type": "code",
   "execution_count": null,
   "metadata": {},
   "outputs": [],
   "source": []
  }
 ],
 "metadata": {
  "kernelspec": {
   "display_name": "Python 3 (ipykernel)",
   "language": "python",
   "name": "python3"
  },
  "language_info": {
   "codemirror_mode": {
    "name": "ipython",
    "version": 3
   },
   "file_extension": ".py",
   "mimetype": "text/x-python",
   "name": "python",
   "nbconvert_exporter": "python",
   "pygments_lexer": "ipython3",
   "version": "3.8.13"
  }
 },
 "nbformat": 4,
 "nbformat_minor": 4
}
